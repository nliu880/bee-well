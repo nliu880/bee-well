{
 "cells": [
  {
   "cell_type": "code",
   "execution_count": 12,
   "id": "4292b2a6",
   "metadata": {},
   "outputs": [],
   "source": [
    "import numpy as np\n",
    "import matplotlib.pyplot as plt\n",
    "import tqdm"
   ]
  },
  {
   "cell_type": "code",
   "execution_count": 19,
   "id": "cf32ef23",
   "metadata": {},
   "outputs": [],
   "source": [
    "# defining constants\n",
    "SWEEPS = 20_000 # the amount of times we update the M-H path (should change)\n",
    "H = 1\n",
    "M = 1\n",
    "TAU = 250 # need to change tau \n",
    "DELTATAU = 1\n",
    "NTAU = int(TAU/DELTATAU)\n",
    "HITSIZE = 0.1 # need to test\n",
    "\n",
    "# i think these are fine \n",
    "XLOW = -4\n",
    "XHIGH = 4\n",
    "NXBINS = 100\n",
    "DELTAX = (XHIGH - XLOW) / NXBINS\n",
    "HITSIZE = 0.1\n",
    "prob_histogram = np.zeros(NXBINS)\n",
    "x_bins = np.linspace(XLOW, XHIGH, NXBINS + 1)\n",
    "\n",
    "x_path = np.zeros(NTAU)"
   ]
  },
  {
   "cell_type": "markdown",
   "id": "3ca3fc73",
   "metadata": {},
   "source": [
    "what tau_b do we need theoretically to arrive at ground state --\n",
    "and tune delta tau \n",
    "\n",
    "beta = 1/(k_b)t  thermal energy \n",
    "\n",
    "we want to solve for the maxwells dist. \n",
    "\n",
    "want kbt to be significantly less than the ground state energy \n"
   ]
  },
  {
   "cell_type": "code",
   "execution_count": 20,
   "id": "01d1a9fe",
   "metadata": {},
   "outputs": [],
   "source": [
    "def potential(x):\n",
    "    return (ALPHA * x ** 4) - (2 * x ** 2) + (1 / ALPHA)\n",
    "\n",
    "def vary_path(x_current):\n",
    "    x_prime = x_current + np.random.random() * 2 * HITSIZE - HITSIZE\n",
    "    while x_prime > XHIGH or x_prime < XLOW:\n",
    "        x_prime = x_current + np.random.random() * 2 * HITSIZE - HITSIZE\n",
    "    return x_prime\n",
    "\n",
    "# here I defined the action based on the lagrangian in the final project. \n",
    "def action(x_left, x_right):\n",
    "    K = 0.5 * M * (((x_right - x_left))**2) / DELTATAU\n",
    "    V = DELTATAU * potential(((x_left + x_right) / 2))\n",
    "    return K + V\n",
    "\n",
    "# action S is the integral of the lagrangian. So that is why this can be K + V instead of K - V \n",
    "def total_action(x_path):\n",
    "    path_action = 0\n",
    "    for i in range(-1, NXBINS-1):\n",
    "        path_action += action(x_path[i], x_path[i+1])\n",
    "    return path_action\n",
    "\n",
    "def delta_action(x_path, x_prime, i):\n",
    "    x_left = x_path[i-1]\n",
    "    x_right = x_path[i+1] if i < NTAU-1 else x_path[0] #PBC.\n",
    "    daction = action(x_left, x_prime) + action(x_prime, x_right) \n",
    "    daction -= action(x_left, x_path[i]) + action(x_path[i], x_right) #compute the resulting change from u in delta S.\n",
    "    return daction\n",
    "\n",
    "def MCMC(x_path, prob_histogram): # this follows MH \n",
    "    for i in range(NTAU):\n",
    "        x_prime = vary_path(x_path[i])\n",
    "        daction = delta_action(x_path, x_prime, i)\n",
    "        if daction <= 0:            \n",
    "            x_path[i] = x_prime\n",
    "        else:        \n",
    "            prob = np.exp(-daction)\n",
    "            if np.random.random() < prob:\n",
    "                x_path[i] = x_prime\n",
    "    hist, _ = np.histogram(x_path, bins=x_bins)\n",
    "    prob_histogram += hist"
   ]
  },
  {
   "cell_type": "code",
   "execution_count": 21,
   "id": "9fef8730",
   "metadata": {},
   "outputs": [
    {
     "name": "stderr",
     "output_type": "stream",
     "text": [
      "100%|██████████| 20000/20000 [01:22<00:00, 241.68it/s]\n"
     ]
    }
   ],
   "source": [
    "for k in tqdm.tqdm(range(SWEEPS)):\n",
    "    MCMC(x_path, prob_histogram)"
   ]
  },
  {
   "cell_type": "code",
   "execution_count": 22,
   "id": "2059c053",
   "metadata": {},
   "outputs": [
    {
     "data": {
      "image/png": "[encoded data removed]",
      "text/plain": [
       "<Figure size 432x288 with 1 Axes>"
      ]
     },
     "metadata": {
      "needs_background": "light"
     },
     "output_type": "display_data"
    }
   ],
   "source": [
    "plt.figure()\n",
    "plt.stairs(prob_histogram/np.sum(prob_histogram*DELTAX), x_bins, label=f\"MCMC, $\\\\tau = {TAU}$, $\\\\delta\\\\tau={DELTATAU}$\")\n",
    "plt.legend()\n",
    "plt.show()"
   ]
  },
  {
   "cell_type": "code",
   "execution_count": null,
   "id": "9f759ae9",
   "metadata": {},
   "outputs": [],
   "source": []
  }
 ],
 "metadata": {
  "kernelspec": {
   "display_name": "Python 3 (ipykernel)",
   "language": "python",
   "name": "python3"
  },
  "language_info": {
   "codemirror_mode": {
    "name": "ipython",
    "version": 3
   },
   "file_extension": ".py",
   "mimetype": "text/x-python",
   "name": "python",
   "nbconvert_exporter": "python",
   "pygments_lexer": "ipython3",
   "version": "3.9.5"
  }
 },
 "nbformat": 4,
 "nbformat_minor": 5
}
